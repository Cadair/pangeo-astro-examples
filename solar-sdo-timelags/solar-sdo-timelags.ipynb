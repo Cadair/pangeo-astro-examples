{
 "cells": [
  {
   "cell_type": "markdown",
   "metadata": {},
   "source": [
    "# Using Dask to Compute AIA Timelags in Parallel\n",
    "## Will Barnes<sup>1</sup> and Stuart Mumford<sup>2</sup>\n",
    "### <sup>1</sup> Department of Physics and Astronomy, Rice University <sup>2</sup>University of Sheffield"
   ]
  },
  {
   "cell_type": "markdown",
   "metadata": {},
   "source": [
    "In this notebook, we'll show an example of how to use Dask to efficiently compute the timelag between two AIA channels from multi-wavelength AIA data. **The goal of this notebook is to show how Dask allows us to treat many individual FITS files as a single, out-of-core data cube.** By constructing a data cube from our stacks of FITS files for each EUV channel of AIA, we can scale the computation of the timelag in each pixel of the image across *many* computing cores. By structuring the data in this way, we are able to effectively leverage our computational resources against our large volume of data."
   ]
  },
  {
   "cell_type": "code",
   "execution_count": null,
   "metadata": {
    "collapsed": true
   },
   "outputs": [],
   "source": [
    "import os\n",
    "import glob\n",
    "\n",
    "import numpy as np\n",
    "import matplotlib.pyplot as plt\n",
    "import dask\n",
    "import dask.array as da\n",
    "import distributed\n",
    "from dask_kubernetes import KubeCluster\n",
    "import gcsfs\n",
    "from astropy.time import Time\n",
    "import astropy.io\n",
    "import astropy.units as u\n",
    "from astropy.coordinates import SkyCoord\n",
    "import sunpy\n",
    "from sunpy.map import Map\n",
    "import matplotlib.colors\n",
    "\n",
    "from util import AIACube,AIATimelags,get_header\n",
    "\n",
    "%matplotlib inline"
   ]
  },
  {
   "cell_type": "markdown",
   "metadata": {},
   "source": [
    "We'll be using a set of AIA data that has already been uploaded to Pangeo. This data consists of 6 hours of consecutive full-disk observations in the six EUV passbands of the AIA instrument: 94, 131, 171, 193, 211, and 335 Å.\n",
    "\n",
    "Additionally, we've also created a \"prepped\" and \"derotated\" version of this dataset in which we've scaled all channels to a common resolution and removed the effect of differential rotation on the Sun such that, over time, the same pixel corresponds (approximately) to the same patch of Sun."
   ]
  },
  {
   "cell_type": "code",
   "execution_count": null,
   "metadata": {},
   "outputs": [],
   "source": [
    "gcs = gcsfs.GCSFileSystem()\n",
    "sorted(gcs.ls('pangeo-data/SDO_AIA_Images/diffrot/'))"
   ]
  },
  {
   "cell_type": "code",
   "execution_count": null,
   "metadata": {},
   "outputs": [],
   "source": [
    "SAVE_DIR = 'gcs://pangeo-data/SDO_AIA_Images/diffrot/'"
   ]
  },
  {
   "cell_type": "code",
   "execution_count": null,
   "metadata": {
    "collapsed": true
   },
   "outputs": [],
   "source": [
    "from dask_kubernetes import KubeCluster\n",
    "cluster = KubeCluster(n_workers=100)\n",
    "cluster"
   ]
  },
  {
   "cell_type": "code",
   "execution_count": null,
   "metadata": {},
   "outputs": [],
   "source": [
    "cluster.dashboard_link"
   ]
  },
  {
   "cell_type": "code",
   "execution_count": null,
   "metadata": {},
   "outputs": [],
   "source": [
    "client = distributed.Client(cluster)"
   ]
  },
  {
   "cell_type": "markdown",
   "metadata": {},
   "source": [
    "## Data Cubes from FITS Files"
   ]
  },
  {
   "cell_type": "markdown",
   "metadata": {},
   "source": [
    "As noted previously, AIA data are stored in the FITS format, where the 4K-by-4K image at each timestep and wavelength is stored in an individual file. This means to form a timeseries for a given wavelength, we need to combine 6 hours worth of data. At a 12 s cadence, this works out to 1800 files per wavelength. "
   ]
  },
  {
   "cell_type": "markdown",
   "metadata": {},
   "source": [
    "Let's create a data cube for the 171 Å channel."
   ]
  },
  {
   "cell_type": "code",
   "execution_count": null,
   "metadata": {},
   "outputs": [],
   "source": [
    "cube = AIACube.from_files(os.path.join(SAVE_DIR, '171/*.fits' ))"
   ]
  },
  {
   "cell_type": "markdown",
   "metadata": {},
   "source": [
    "Note that we've only read in the metadata and not the actual data. This is the *lazy* part of structure. The data is only read in when needed. However, we can still treat it much like a \"dense\" data structure."
   ]
  },
  {
   "cell_type": "code",
   "execution_count": null,
   "metadata": {},
   "outputs": [],
   "source": [
    "cube.dtype"
   ]
  },
  {
   "cell_type": "code",
   "execution_count": null,
   "metadata": {},
   "outputs": [],
   "source": [
    "cube.shape # time, space, space"
   ]
  },
  {
   "cell_type": "markdown",
   "metadata": {},
   "source": [
    "Let's take a look at the first map."
   ]
  },
  {
   "cell_type": "code",
   "execution_count": null,
   "metadata": {},
   "outputs": [],
   "source": [
    "plt.figure(figsize=(12,12))\n",
    "cube.maps[0].plot(vmin=1e2,vmax=1e4)"
   ]
  },
  {
   "cell_type": "markdown",
   "metadata": {},
   "source": [
    "We'll also identify the active region (AR) we are interested in. Note that we can crop each map in the same place as we have already removed the effect of the rotation of the Sun."
   ]
  },
  {
   "cell_type": "code",
   "execution_count": null,
   "metadata": {},
   "outputs": [],
   "source": [
    "m = cube.maps[0]\n",
    "blc = SkyCoord(-600*u.arcsec,-150*u.arcsec,frame=m.coordinate_frame)\n",
    "trc = SkyCoord(-200*u.arcsec,250*u.arcsec,frame=m.coordinate_frame)"
   ]
  },
  {
   "cell_type": "code",
   "execution_count": null,
   "metadata": {},
   "outputs": [],
   "source": [
    "fig = plt.figure(figsize=(6,6))\n",
    "m_sub = m.submap(blc,trc)\n",
    "ax = fig.gca(projection=m_sub)\n",
    "m_sub.plot(axes=ax,title=False,vmin=1e2,vmax=1e4)\n",
    "m_sub.draw_rectangle(blc,(trc.Tx - blc.Tx), (trc.Ty - blc.Ty), color='C0', lw=3)\n",
    "ax.grid(alpha=0)\n",
    "m_sub.draw_grid(axes=ax,)"
   ]
  },
  {
   "cell_type": "markdown",
   "metadata": {},
   "source": [
    "Additionally, we can take a time average over the whole cube."
   ]
  },
  {
   "cell_type": "code",
   "execution_count": null,
   "metadata": {},
   "outputs": [],
   "source": [
    "cube_average = cube.average()"
   ]
  },
  {
   "cell_type": "markdown",
   "metadata": {},
   "source": [
    "However, the average is only computed when we need it. Until then, the data is represented as a Dask array, though we do have access to all of the necessary metadata."
   ]
  },
  {
   "cell_type": "code",
   "execution_count": null,
   "metadata": {},
   "outputs": [],
   "source": [
    "cube_average"
   ]
  },
  {
   "cell_type": "markdown",
   "metadata": {},
   "source": [
    "**NOTE: This takes a few minutes and can be skipped**"
   ]
  },
  {
   "cell_type": "code",
   "execution_count": null,
   "metadata": {},
   "outputs": [],
   "source": [
    "plt.figure(figsize=(12,12))\n",
    "cube_average.plot(title=False,vmin=1e2,vmax=1e4)"
   ]
  },
  {
   "cell_type": "markdown",
   "metadata": {},
   "source": [
    "Now, let's create a cube for each wavelength. "
   ]
  },
  {
   "cell_type": "code",
   "execution_count": null,
   "metadata": {},
   "outputs": [],
   "source": [
    "channels = [94,131,171,193,211,335]"
   ]
  },
  {
   "cell_type": "markdown",
   "metadata": {},
   "source": [
    "**NOTE: This may take a few minutes.**"
   ]
  },
  {
   "cell_type": "code",
   "execution_count": null,
   "metadata": {},
   "outputs": [],
   "source": [
    "cubes = [AIACube.from_files(os.path.join(SAVE_DIR, f'{c:03d}/*.fits' )) for c in channels]"
   ]
  },
  {
   "cell_type": "markdown",
   "metadata": {},
   "source": [
    "We also need to normalize each channel to the exposure time. This is typically part of the \"prepping\" process. We can do this simply by dividing each map in each cube by the exposure time as found in the map metadata. We'll also only take every 10th map to reduce the compute time. This reduces our data from the 12 s cadence of the AIA instrument to a 2 minute time resolution. The computation is just a bit slower at the full cadence."
   ]
  },
  {
   "cell_type": "code",
   "execution_count": null,
   "metadata": {},
   "outputs": [],
   "source": [
    "cubes = [AIACube([Map(m.data/m.meta['exptime'], m.meta) for m in c.maps[::10]]) for c in cubes]"
   ]
  },
  {
   "cell_type": "markdown",
   "metadata": {},
   "source": [
    "Lastly, we'll add the cropping (or submap) step to our pipeline since we are only interested in computing the timelags for one particular active region."
   ]
  },
  {
   "cell_type": "markdown",
   "metadata": {},
   "source": [
    "**NOTE: This may take a few minutes.**"
   ]
  },
  {
   "cell_type": "code",
   "execution_count": null,
   "metadata": {},
   "outputs": [],
   "source": [
    "cubes = [c.submap(blc,trc) for c in cubes]"
   ]
  },
  {
   "cell_type": "markdown",
   "metadata": {},
   "source": [
    "## Timelags"
   ]
  },
  {
   "cell_type": "markdown",
   "metadata": {},
   "source": [
    "To do some science, we want to calculate the timelag in each pixel of our map. The **timelag**, or the delay which maximizes the cross-correlation between two timeseries, is a useful quantity for understanding the thermal evolution of the coronal plasma between the passbands of the AIA instrument.\n",
    "\n",
    "In temperature space, the EUV passbands on AIA have the following structure."
   ]
  },
  {
   "cell_type": "markdown",
   "metadata": {},
   "source": [
    "![](http://iopscience.iop.org/0004-637X/753/1/35/downloadFigure/figure/apj431449f1)"
   ]
  },
  {
   "cell_type": "markdown",
   "metadata": {},
   "source": [
    "These are the so-called \"temperature response functions\" and they show approximately what temperatures each channel or passband is sensitive too.\n",
    "\n",
    "As a blob of coronal plasma cools from 10 MK down to below 1 MK, we expect to see the intensity peak in consecutively cooler channels. If we then compute the cross-correlate of the intensity timeseries in two different channels as a function of the temporal offset between those two timeseries, the offset which maximizes the cross-correlation is the **timelag**. The timelag can then be used as a proxy for the plasma cooling time between two passbands.\n",
    "\n",
    "This method was first applied to AIA data by [Viall and Klimchuk (2012)](http://iopscience.iop.org/article/10.1088/0004-637X/753/1/35/meta). They computed the timelag in every pixel of AR NOAA 11082 as observed by AIA. In doing so, they revealed large-scale cooing patterns across the entire active region. An example of several cross-correlation curves in a single pixel is shown below. When computing timelags between AIA channel pairs, we order the channel pairs by decreasing temperature such that a positive timelag implies the peak in the hot channel preceeded the peak in the cooler channel. **Using this convention, a positive timelag implies cooling plasma.**"
   ]
  },
  {
   "cell_type": "markdown",
   "metadata": {},
   "source": [
    "![](http://iopscience.iop.org/0004-637X/753/1/35/downloadFigure/figure/apj431449f4)"
   ]
  },
  {
   "cell_type": "markdown",
   "metadata": {},
   "source": [
    "Mathematically, we can express the timelag in terms of a Fourier transform, making it very simple to compute with Dask. We can express the cross-correlation $\\mathcal{C}$ between two channels $A$ and $B$ as,\n",
    "\n",
    "$$\n",
    "    \\mathcal{C}_{AB}(\\tau) = \\mathcal{I}_A(t)\\star\\mathcal{I}_B(t) = \\mathcal{I}_A(-t)\\ast\\mathcal{I}_B(t)\n",
    "$$\n",
    "\n",
    "where $\\star$ and $\\ast$ represent the correlation and convolution operators, respectively, $\\tau$ is the lag and\n",
    "\n",
    "$$\n",
    "    \\mathcal{I}_c(t)=\\frac{I_c(t)-\\bar{I}_c}{\\sigma_{c}},\n",
    "$$\n",
    "\n",
    "is the mean-subtracted and scaled intensity of channel $c$ as a function of time. Taking the fourier transform of both sides of the first equation and using the convolution theorem,\n",
    "\n",
    "$$\n",
    "\\begin{align}\n",
    "    \\mathcal{F}\\{\\mathcal{C}_{AB}(\\tau)\\} &= \\mathcal{F}\\{\\mathcal{I}_A(-t)\\ast\\mathcal{I}_B(t)\\},\\\\\n",
    "    &= \\mathcal{F}\\{\\mathcal{I}_A(-t)\\}\\mathcal{F}\\{\\mathcal{I}_B(t)\\}.\n",
    "\\end{align}\n",
    "$$\n",
    "\n",
    "Taking the inverse Fourier transform, $\\mathcal{F}^{-1}$, of both sides of the above expression gives,\n",
    "\n",
    "$$\n",
    "    \\mathcal{C}_{AB}(\\tau) = \\mathcal{F}^{-1}\\{\\mathcal{F}\\{\\mathcal{I}_A(-t)\\}\\mathcal{F}\\{\\mathcal{I}_B(t)\\}\\}.\n",
    "$$\n",
    "\n",
    "Scaling $\\mathcal{C}_{AB}$ by the length of the intensity timeseries $I(t)$ yields the same result as that of the correlation defined in section 2 of [Viall and Klimchuk (2012)](http://iopscience.iop.org/article/10.1088/0004-637X/753/1/35/meta). Furthermore, the **timelag** between channels $A$ and $B$ is defined as,\n",
    "$$\n",
    "    \\tau_{AB} = \\mathrm{argmax}_{\\tau}\\,\\mathcal{C}_{AB}(\\tau).\n",
    "$$"
   ]
  },
  {
   "cell_type": "markdown",
   "metadata": {},
   "source": [
    "Fortunately for us, all of these operations are already implemented in `dask.array`! Since we have already shaped our data into a data cube, we just need to build the graph appropriately."
   ]
  },
  {
   "cell_type": "markdown",
   "metadata": {},
   "source": [
    "Now, we'll use a class that holds cubes for all EUV wavelengths and can compute the timelag in each pixel of our observation and return the resulting timelag to a single `Map` object for each pair of AIA EUV channels. This class also includes a method (`cross_correlation`) for computing the cross-correlation in each pixel of our image."
   ]
  },
  {
   "cell_type": "code",
   "execution_count": null,
   "metadata": {},
   "outputs": [],
   "source": [
    "timelags = AIATimelags(*cubes)"
   ]
  },
  {
   "cell_type": "markdown",
   "metadata": {},
   "source": [
    "## Compute and Visualize"
   ]
  },
  {
   "cell_type": "markdown",
   "metadata": {},
   "source": [
    "Finally, let's compute a timelag in every pixel of the AR! Because the computation in each pixel is independent, we can distribute the spatial dimensions across multiple cores.\n",
    "\n",
    "Let's first compute the timelag map for the 335-171 Å channel pair."
   ]
  },
  {
   "cell_type": "code",
   "execution_count": null,
   "metadata": {},
   "outputs": [],
   "source": [
    "tl_335_171 = timelags.make_timelag_map(335,171,timelag_bounds=(-3*u.hour,3*u.hour),)"
   ]
  },
  {
   "cell_type": "markdown",
   "metadata": {},
   "source": [
    "By creating this timelag map, we are telling Dask to execute the following chain of operations:\n",
    "\n",
    "1. Divide each map by the exposure time\n",
    "2. Crop each map to the selected active region\n",
    "3. Stack all of the maps together and \"rechunk\" the array along the time axis\n",
    "4. Interpolate the two channels to a common time array\n",
    "5. Scale the intensity by the mean and standard deviation in each pixel\n",
    "6. Compute $\\mathcal{C}_{AB}$ (see above expression) in each pixel \n",
    "7. Find the timelag $\\tau$ that maximizes $\\mathcal{C}_{AB}$\n",
    "\n",
    "Dask then takes care of farming out this task graph to all available workers. The `make_timelag_map` method then takes the resulting array and builds a SunPy map from the result with the appropriate metadata inherited from our original intensity data."
   ]
  },
  {
   "cell_type": "markdown",
   "metadata": {},
   "source": [
    "We can plot our result just as we do any other SunPy map."
   ]
  },
  {
   "cell_type": "code",
   "execution_count": null,
   "metadata": {},
   "outputs": [],
   "source": [
    "fig = plt.figure(figsize=(12,10))\n",
    "ax = fig.gca(projection=tl_335_171)\n",
    "im = tl_335_171.plot(axes=ax,vmin=-7.5e3,vmax=7.5e3,cmap='RdYlBu_r',title=False)\n",
    "ax.grid(alpha=0)\n",
    "fig.colorbar(im)"
   ]
  },
  {
   "cell_type": "markdown",
   "metadata": {},
   "source": [
    "Note how the timelag identifies loop structures in the corona. This indicates that these *coronal loops* are evolving, specifically cooling from the 335 through the 171 passband, coherently due to the coronal plasma being confined by the magnetic field."
   ]
  },
  {
   "cell_type": "markdown",
   "metadata": {},
   "source": [
    "We can also compute the maximum value of the cross-correlation in each pixel to understand how correlated the two timeseries were."
   ]
  },
  {
   "cell_type": "code",
   "execution_count": null,
   "metadata": {},
   "outputs": [],
   "source": [
    "cc_335_171 = timelags.make_correlation_map(335,171,timelag_bounds=(-3*u.hour,3*u.hour))"
   ]
  },
  {
   "cell_type": "code",
   "execution_count": null,
   "metadata": {},
   "outputs": [],
   "source": [
    "fig = plt.figure(figsize=(12,10))\n",
    "ax = fig.gca(projection=cc_335_171)\n",
    "im = cc_335_171.plot(axes=ax,vmin=0,vmax=1,cmap='magma_r',title=False)\n",
    "ax.grid(alpha=0)\n",
    "fig.colorbar(im)"
   ]
  },
  {
   "cell_type": "markdown",
   "metadata": {},
   "source": [
    "Computing the timelag for a single channel pair in a single pixel for an equivalent timeseries would take approximately 2 ms in IDL. Assuming this was done in serial, computing the timelag over an entire active region for a single channel pair would take approximately 7.5 minutes. **Using the above method, we've accomplished the same task in about 21 s, a factor of 21 speedup!** Notably, the method presented here is also scalable such that the more computing resources we have available, the shorter our compute time (though this speedup is likely not linear!)."
   ]
  },
  {
   "cell_type": "markdown",
   "metadata": {},
   "source": [
    "Let's compute the timelag for two channels that are a bit closer together in temperature space."
   ]
  },
  {
   "cell_type": "code",
   "execution_count": null,
   "metadata": {},
   "outputs": [],
   "source": [
    "tl_335_211 = timelags.make_timelag_map(335,211,timelag_bounds=(-3*u.hour,3*u.hour),)"
   ]
  },
  {
   "cell_type": "code",
   "execution_count": null,
   "metadata": {},
   "outputs": [],
   "source": [
    "fig = plt.figure(figsize=(12,10))\n",
    "ax = fig.gca(projection=tl_335_211)\n",
    "im = tl_335_211.plot(axes=ax,vmin=-7.5e3,vmax=7.5e3,cmap='RdYlBu_r',title=False)\n",
    "ax.grid(alpha=0)\n",
    "fig.colorbar(im)"
   ]
  },
  {
   "cell_type": "markdown",
   "metadata": {},
   "source": [
    "Note that we see similar patterns for this channel pair though the timelags are shorter due to the smaller separation of the 335 and 211 channels in temperature space as compared to the 335 and 171 channels. "
   ]
  },
  {
   "cell_type": "markdown",
   "metadata": {},
   "source": [
    "Maybe try one more!"
   ]
  },
  {
   "cell_type": "code",
   "execution_count": null,
   "metadata": {},
   "outputs": [],
   "source": [
    "tl_94_335 = timelags.make_timelag_map(94,335,timelag_bounds=(-3*u.hour,3*u.hour),)"
   ]
  },
  {
   "cell_type": "code",
   "execution_count": null,
   "metadata": {},
   "outputs": [],
   "source": [
    "fig = plt.figure(figsize=(12,10))\n",
    "ax = fig.gca(projection=tl_94_335)\n",
    "im = tl_94_335.plot(axes=ax,vmin=-7.5e3,vmax=7.5e3,cmap='RdYlBu_r',title=False)\n",
    "ax.grid(alpha=0)\n",
    "fig.colorbar(im)"
   ]
  },
  {
   "cell_type": "markdown",
   "metadata": {},
   "source": [
    "Note that we see many more negative (blue) timelags. This is because the 94 Å channel is double peaked in temperature space (see plot above) such that it has a component hotter and cooler than the 335 Å channel. What this suggests is that the plasma is not cooling through the hot part of the 94 Å passband and helps us place bounds on the temperature evolution of these coronal loop structures."
   ]
  },
  {
   "cell_type": "code",
   "execution_count": null,
   "metadata": {},
   "outputs": [],
   "source": []
  }
 ],
 "metadata": {
  "kernelspec": {
   "display_name": "Python [conda env:conda]",
   "language": "python",
   "name": "conda-env-conda-py"
  },
  "language_info": {
   "codemirror_mode": {
    "name": "ipython",
    "version": 3
   },
   "file_extension": ".py",
   "mimetype": "text/x-python",
   "name": "python",
   "nbconvert_exporter": "python",
   "pygments_lexer": "ipython3",
   "version": "3.6.6"
  }
 },
 "nbformat": 4,
 "nbformat_minor": 2
}
